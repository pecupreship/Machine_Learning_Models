{
 "cells": [
  {
   "cell_type": "code",
   "execution_count": 1,
   "id": "0987bb2f-8995-49a3-8184-987ba1c156fa",
   "metadata": {},
   "outputs": [],
   "source": [
    "# Plant Leaf Classification using Multilayer Perceptron Neural Network"
   ]
  },
  {
   "cell_type": "code",
   "execution_count": 2,
   "id": "2fa1ee00-6300-428d-831e-4d4f42bbe3eb",
   "metadata": {},
   "outputs": [],
   "source": [
    "import pandas as pd\n",
    "import numpy as np\n",
    "from matplotlib import pyplot as plt\n",
    "from sklearn.metrics import classification_report\n",
    "from sklearn.metrics import confusion_matrix, ConfusionMatrixDisplay\n",
    "from sklearn.model_selection import train_test_split\n",
    "from sklearn.neural_network import MLPClassifier\n",
    "from sklearn.metrics import accuracy_score"
   ]
  },
  {
   "cell_type": "code",
   "execution_count": null,
   "id": "9a46a44b-722c-4c55-82af-071162be5d27",
   "metadata": {},
   "outputs": [],
   "source": [
    "leaf_data = pd.read_csv('C:\\Ekundayo\\project@futa\\leaf_data.csv')"
   ]
  },
  {
   "cell_type": "code",
   "execution_count": null,
   "id": "0bdeb9c4-fea6-47cb-9170-4119bbf1542d",
   "metadata": {},
   "outputs": [],
   "source": [
    "leaf_data.head(-5)"
   ]
  },
  {
   "cell_type": "code",
   "execution_count": null,
   "id": "84213cec-9b76-43de-b53e-14cb956cc0e3",
   "metadata": {},
   "outputs": [],
   "source": [
    "leaf_data.shape"
   ]
  },
  {
   "cell_type": "code",
   "execution_count": null,
   "id": "0d223a43-4d2c-4ba2-96fc-5d3bcbed246b",
   "metadata": {},
   "outputs": [],
   "source": [
    "#Selecting the necessary features as input"
   ]
  },
  {
   "cell_type": "code",
   "execution_count": null,
   "id": "12f9a7da-84ad-4c8a-ada6-48b2f6350ead",
   "metadata": {},
   "outputs": [],
   "source": [
    "X_leaf = leaf_data[[\"Aspect ratio\", \"Elongation\", \"Solidity\", \"Stochastic convexity\",\n",
    "             \"Isoperimetric factor\", \"Max Ident Depth\", \"Lobedness\",\"Average contrast\", \"Eccentricity\",\"smoothness\"]]"
   ]
  },
  {
   "cell_type": "code",
   "execution_count": null,
   "id": "9108e71f-2c83-473d-bd9d-99b66fb38a9a",
   "metadata": {},
   "outputs": [],
   "source": [
    "X_leaf.head()"
   ]
  },
  {
   "cell_type": "code",
   "execution_count": null,
   "id": "6eedffaf-3312-4142-8a9f-6459e7d7a8be",
   "metadata": {},
   "outputs": [],
   "source": [
    "#Selecting the necessary features as output"
   ]
  },
  {
   "cell_type": "code",
   "execution_count": null,
   "id": "7adc3bf6-4b6d-4529-b0e7-9ee91fe4fa71",
   "metadata": {},
   "outputs": [],
   "source": [
    "Y_leaf=leaf_data[[\"class\"]]"
   ]
  },
  {
   "cell_type": "code",
   "execution_count": null,
   "id": "03317dc0-06d5-4534-9d4f-24b894b00ee6",
   "metadata": {},
   "outputs": [],
   "source": [
    "Y_leaf"
   ]
  },
  {
   "cell_type": "code",
   "execution_count": null,
   "id": "5ce41229-3b48-4f3c-b439-109bec83900b",
   "metadata": {},
   "outputs": [],
   "source": [
    "print(Y_leaf.shape)"
   ]
  },
  {
   "cell_type": "code",
   "execution_count": null,
   "id": "8a1e821b-5c59-412a-9025-358ccb13768a",
   "metadata": {},
   "outputs": [],
   "source": [
    "#Preprocessing the input data to avoid bias"
   ]
  },
  {
   "cell_type": "code",
   "execution_count": null,
   "id": "273837d6-5ff8-47e1-9f29-f99ab1a1214a",
   "metadata": {},
   "outputs": [],
   "source": [
    "from sklearn.preprocessing import MinMaxScaler\n",
    "scaler =MinMaxScaler()\n",
    "scaler.fit(X_leaf)\n",
    "X_data = scaler.transform(X_leaf)"
   ]
  },
  {
   "cell_type": "code",
   "execution_count": null,
   "id": "4c5e2f66-0347-4ec3-958f-ac195e6022e9",
   "metadata": {},
   "outputs": [],
   "source": [
    "X_data"
   ]
  },
  {
   "cell_type": "code",
   "execution_count": null,
   "id": "11ca29c5-b760-48c7-9f41-acacadc0405f",
   "metadata": {},
   "outputs": [],
   "source": [
    "Y_data = np.ravel(Y_leaf)"
   ]
  },
  {
   "cell_type": "code",
   "execution_count": null,
   "id": "067dc3ed-c75c-44cc-be0f-51ae22937f1a",
   "metadata": {},
   "outputs": [],
   "source": [
    "X_train, X_test,Y_train,Y_test = train_test_split(X_data,Y_data, test_size=0.3, random_state = 2)"
   ]
  },
  {
   "cell_type": "code",
   "execution_count": null,
   "id": "3bfaf4c7-142e-43c9-881c-a036bd4cde07",
   "metadata": {},
   "outputs": [],
   "source": [
    "#Creating MLP model\n",
    "model = MLPClassifier(max_iter=1000, activation='relu', hidden_layer_sizes=(100,100,100,100,100,100,100,100,100,100))"
   ]
  },
  {
   "cell_type": "code",
   "execution_count": null,
   "id": "14c32c79-f471-42ac-b759-d2ca4e3ba49f",
   "metadata": {},
   "outputs": [],
   "source": [
    "model.fit(X_train,Y_train,)"
   ]
  },
  {
   "cell_type": "code",
   "execution_count": null,
   "id": "7d5d7653-6294-4c00-88e1-a2e1f75b77c5",
   "metadata": {},
   "outputs": [],
   "source": [
    "#MLPClassifier?"
   ]
  },
  {
   "cell_type": "code",
   "execution_count": null,
   "id": "c982ae05-b584-4fb1-af26-f0c8373fc9cb",
   "metadata": {},
   "outputs": [],
   "source": [
    "model.classes_"
   ]
  },
  {
   "cell_type": "code",
   "execution_count": null,
   "id": "7980fe22-c8db-4bc3-b86f-a0a6a8312167",
   "metadata": {},
   "outputs": [],
   "source": [
    "model_pred_test = model.predict(X_test)"
   ]
  },
  {
   "cell_type": "code",
   "execution_count": null,
   "id": "720ea69f-0332-46b0-8025-78396f097d09",
   "metadata": {},
   "outputs": [],
   "source": [
    "test_accuracy_score=accuracy_score(Y_test, model_pred_test)\n",
    "print(test_accuracy_score*100)"
   ]
  },
  {
   "cell_type": "code",
   "execution_count": null,
   "id": "62950238-b556-47ab-9fe3-95d189c67b76",
   "metadata": {},
   "outputs": [],
   "source": [
    "cm = confusion_matrix(Y_test, model_pred_test)\n",
    "print(cm)\n",
    "matix_display = ConfusionMatrixDisplay(confusion_matrix = cm)\n",
    "matix_display.plot()"
   ]
  }
 ],
 "metadata": {
  "kernelspec": {
   "display_name": "Python 3 (ipykernel)",
   "language": "python",
   "name": "python3"
  },
  "language_info": {
   "codemirror_mode": {
    "name": "ipython",
    "version": 3
   },
   "file_extension": ".py",
   "mimetype": "text/x-python",
   "name": "python",
   "nbconvert_exporter": "python",
   "pygments_lexer": "ipython3",
   "version": "3.9.18"
  }
 },
 "nbformat": 4,
 "nbformat_minor": 5
}
